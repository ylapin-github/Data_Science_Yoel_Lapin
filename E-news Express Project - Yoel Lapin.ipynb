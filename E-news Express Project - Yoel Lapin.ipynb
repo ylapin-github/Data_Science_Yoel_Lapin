{
 "cells": [
  {
   "cell_type": "markdown",
   "metadata": {},
   "source": [
    "# E-News Express Project - Student = Yoel Lapin\n",
    "\n",
    "You are expected to perform the statistical analysis to answer the following questions:\n",
    "\n",
    "-Explore the dataset and extract insights using Exploratory Data Analysis.    \n",
    "-Do the users spend more time on the new landing page than the old landing page?     \n",
    "-Is the conversion rate (the proportion of users who visit the landing page and get converted) for the new page greater than the conversion rate for the old page?     \n",
    "-Does the converted status depend on the preferred language?       \n",
    "-Is the mean time spent on the new page the same for the different language users?\n",
    "\n",
    "\n"
   ]
  },
  {
   "cell_type": "markdown",
   "metadata": {},
   "source": [
    "### Based on the above we must test several hypotheses:\n",
    "\n",
    "##### The user spends more time on the new landing page vs. old the old one\n",
    "𝜇 mean time spent on the landing page  \n",
    "𝐻0:𝜇 control group =𝜇 treatment group, the null hypothesis    \n",
    "𝐻𝑎:𝜇 control group < 𝜇 treatment group, the alternative hypothesis    \n",
    "\n",
    "##### The conversion rate on the new page is higher than on the old page\n",
    "𝜇 new subscribers   \n",
    "𝐻0:𝜇 control group =𝜇 treatment group, the null hypothesis     \n",
    "𝐻𝑎:𝜇 control group < 𝜇 treatment group, the alternative hypothesis  \n",
    "\n",
    "##### Conversion rate depends on the language\n",
    "𝜇1 new subscribers in English, 𝜇2 new subscribers in French, 𝜇3 new subscribers in Spanish         \n",
    "𝐻0:𝜇1=𝜇2=𝜇3, the null hypothesis         \n",
    "𝐻𝑎:𝜇 , new subscribers per language are different, alternative hypothesis\n",
    "\n",
    "##### Time spent on the new page is equal across different languages\n",
    "𝜇1 mean time spent in the landing page in English, 𝜇2 mean time spent in the landing page in French, 𝜇3 mean time spent in the landing page in Spanish     \n",
    "𝐻0:𝜇1=𝜇2=𝜇3, the null hypothesis       \n",
    "𝐻𝑎:𝜇 At least one language is showing different results, the alternative hypothesis\n",
    "\n",
    "\n"
   ]
  },
  {
   "cell_type": "markdown",
   "metadata": {},
   "source": [
    "### Import Python libraries and acquire the data set \n",
    "\n",
    "Set the environment for the Exploratory Data Analysis"
   ]
  },
  {
   "cell_type": "code",
   "execution_count": 1,
   "metadata": {},
   "outputs": [],
   "source": [
    "import pandas as pd #library used for data manipulation and analysis\n",
    "import numpy as np # library used for working with arrays\n",
    "import matplotlib.pyplot as plt # library for plots and visualisations\n",
    "import seaborn as sns # library for visualisations\n",
    "%matplotlib inline \n",
    "\n",
    "import scipy.stats as stats #  library containing a large number of probability and statistical functions"
   ]
  },
  {
   "cell_type": "code",
   "execution_count": 2,
   "metadata": {},
   "outputs": [],
   "source": [
    "# Data acquisition \n",
    "abtest = pd.read_csv ('abtest.csv')"
   ]
  },
  {
   "cell_type": "markdown",
   "metadata": {},
   "source": [
    "### Basic EDA (Exploratory Data Analysis)\n",
    "\n",
    "Perform the first tasks to explore and understand the dataset characteristics "
   ]
  },
  {
   "cell_type": "code",
   "execution_count": 3,
   "metadata": {
    "scrolled": true
   },
   "outputs": [
    {
     "name": "stdout",
     "output_type": "stream",
     "text": [
      "<class 'pandas.core.frame.DataFrame'>\n",
      "RangeIndex: 100 entries, 0 to 99\n",
      "Data columns (total 6 columns):\n",
      " #   Column                  Non-Null Count  Dtype  \n",
      "---  ------                  --------------  -----  \n",
      " 0   user_id                 100 non-null    int64  \n",
      " 1   group                   100 non-null    object \n",
      " 2   landing_page            100 non-null    object \n",
      " 3   time_spent_on_the_page  100 non-null    float64\n",
      " 4   converted               100 non-null    object \n",
      " 5   language_preferred      100 non-null    object \n",
      "dtypes: float64(1), int64(1), object(4)\n",
      "memory usage: 4.8+ KB\n"
     ]
    }
   ],
   "source": [
    "# Checking the different data type across the dataset\n",
    "abtest.info ()"
   ]
  },
  {
   "cell_type": "code",
   "execution_count": 4,
   "metadata": {},
   "outputs": [
    {
     "data": {
      "text/html": [
       "<div>\n",
       "<style scoped>\n",
       "    .dataframe tbody tr th:only-of-type {\n",
       "        vertical-align: middle;\n",
       "    }\n",
       "\n",
       "    .dataframe tbody tr th {\n",
       "        vertical-align: top;\n",
       "    }\n",
       "\n",
       "    .dataframe thead th {\n",
       "        text-align: right;\n",
       "    }\n",
       "</style>\n",
       "<table border=\"1\" class=\"dataframe\">\n",
       "  <thead>\n",
       "    <tr style=\"text-align: right;\">\n",
       "      <th></th>\n",
       "      <th>user_id</th>\n",
       "      <th>group</th>\n",
       "      <th>landing_page</th>\n",
       "      <th>time_spent_on_the_page</th>\n",
       "      <th>converted</th>\n",
       "      <th>language_preferred</th>\n",
       "    </tr>\n",
       "  </thead>\n",
       "  <tbody>\n",
       "    <tr>\n",
       "      <th>0</th>\n",
       "      <td>False</td>\n",
       "      <td>False</td>\n",
       "      <td>False</td>\n",
       "      <td>False</td>\n",
       "      <td>False</td>\n",
       "      <td>False</td>\n",
       "    </tr>\n",
       "    <tr>\n",
       "      <th>1</th>\n",
       "      <td>False</td>\n",
       "      <td>False</td>\n",
       "      <td>False</td>\n",
       "      <td>False</td>\n",
       "      <td>False</td>\n",
       "      <td>False</td>\n",
       "    </tr>\n",
       "    <tr>\n",
       "      <th>2</th>\n",
       "      <td>False</td>\n",
       "      <td>False</td>\n",
       "      <td>False</td>\n",
       "      <td>False</td>\n",
       "      <td>False</td>\n",
       "      <td>False</td>\n",
       "    </tr>\n",
       "    <tr>\n",
       "      <th>3</th>\n",
       "      <td>False</td>\n",
       "      <td>False</td>\n",
       "      <td>False</td>\n",
       "      <td>False</td>\n",
       "      <td>False</td>\n",
       "      <td>False</td>\n",
       "    </tr>\n",
       "    <tr>\n",
       "      <th>4</th>\n",
       "      <td>False</td>\n",
       "      <td>False</td>\n",
       "      <td>False</td>\n",
       "      <td>False</td>\n",
       "      <td>False</td>\n",
       "      <td>False</td>\n",
       "    </tr>\n",
       "    <tr>\n",
       "      <th>...</th>\n",
       "      <td>...</td>\n",
       "      <td>...</td>\n",
       "      <td>...</td>\n",
       "      <td>...</td>\n",
       "      <td>...</td>\n",
       "      <td>...</td>\n",
       "    </tr>\n",
       "    <tr>\n",
       "      <th>95</th>\n",
       "      <td>False</td>\n",
       "      <td>False</td>\n",
       "      <td>False</td>\n",
       "      <td>False</td>\n",
       "      <td>False</td>\n",
       "      <td>False</td>\n",
       "    </tr>\n",
       "    <tr>\n",
       "      <th>96</th>\n",
       "      <td>False</td>\n",
       "      <td>False</td>\n",
       "      <td>False</td>\n",
       "      <td>False</td>\n",
       "      <td>False</td>\n",
       "      <td>False</td>\n",
       "    </tr>\n",
       "    <tr>\n",
       "      <th>97</th>\n",
       "      <td>False</td>\n",
       "      <td>False</td>\n",
       "      <td>False</td>\n",
       "      <td>False</td>\n",
       "      <td>False</td>\n",
       "      <td>False</td>\n",
       "    </tr>\n",
       "    <tr>\n",
       "      <th>98</th>\n",
       "      <td>False</td>\n",
       "      <td>False</td>\n",
       "      <td>False</td>\n",
       "      <td>False</td>\n",
       "      <td>False</td>\n",
       "      <td>False</td>\n",
       "    </tr>\n",
       "    <tr>\n",
       "      <th>99</th>\n",
       "      <td>False</td>\n",
       "      <td>False</td>\n",
       "      <td>False</td>\n",
       "      <td>False</td>\n",
       "      <td>False</td>\n",
       "      <td>False</td>\n",
       "    </tr>\n",
       "  </tbody>\n",
       "</table>\n",
       "<p>100 rows × 6 columns</p>\n",
       "</div>"
      ],
      "text/plain": [
       "    user_id  group  landing_page  time_spent_on_the_page  converted  \\\n",
       "0     False  False         False                   False      False   \n",
       "1     False  False         False                   False      False   \n",
       "2     False  False         False                   False      False   \n",
       "3     False  False         False                   False      False   \n",
       "4     False  False         False                   False      False   \n",
       "..      ...    ...           ...                     ...        ...   \n",
       "95    False  False         False                   False      False   \n",
       "96    False  False         False                   False      False   \n",
       "97    False  False         False                   False      False   \n",
       "98    False  False         False                   False      False   \n",
       "99    False  False         False                   False      False   \n",
       "\n",
       "    language_preferred  \n",
       "0                False  \n",
       "1                False  \n",
       "2                False  \n",
       "3                False  \n",
       "4                False  \n",
       "..                 ...  \n",
       "95               False  \n",
       "96               False  \n",
       "97               False  \n",
       "98               False  \n",
       "99               False  \n",
       "\n",
       "[100 rows x 6 columns]"
      ]
     },
     "execution_count": 4,
     "metadata": {},
     "output_type": "execute_result"
    }
   ],
   "source": [
    "# Double check the above about not having null values\n",
    "abtest.isnull()"
   ]
  },
  {
   "cell_type": "code",
   "execution_count": 5,
   "metadata": {
    "scrolled": true
   },
   "outputs": [
    {
     "data": {
      "text/plain": [
       "(100, 6)"
      ]
     },
     "execution_count": 5,
     "metadata": {},
     "output_type": "execute_result"
    }
   ],
   "source": [
    "# Find the dataset number of records and attributes\n",
    "abtest.shape"
   ]
  },
  {
   "cell_type": "code",
   "execution_count": 6,
   "metadata": {
    "scrolled": true
   },
   "outputs": [
    {
     "data": {
      "text/html": [
       "<div>\n",
       "<style scoped>\n",
       "    .dataframe tbody tr th:only-of-type {\n",
       "        vertical-align: middle;\n",
       "    }\n",
       "\n",
       "    .dataframe tbody tr th {\n",
       "        vertical-align: top;\n",
       "    }\n",
       "\n",
       "    .dataframe thead th {\n",
       "        text-align: right;\n",
       "    }\n",
       "</style>\n",
       "<table border=\"1\" class=\"dataframe\">\n",
       "  <thead>\n",
       "    <tr style=\"text-align: right;\">\n",
       "      <th></th>\n",
       "      <th>user_id</th>\n",
       "      <th>group</th>\n",
       "      <th>landing_page</th>\n",
       "      <th>time_spent_on_the_page</th>\n",
       "      <th>converted</th>\n",
       "      <th>language_preferred</th>\n",
       "    </tr>\n",
       "  </thead>\n",
       "  <tbody>\n",
       "    <tr>\n",
       "      <th>0</th>\n",
       "      <td>546592</td>\n",
       "      <td>control</td>\n",
       "      <td>old</td>\n",
       "      <td>3.48</td>\n",
       "      <td>no</td>\n",
       "      <td>Spanish</td>\n",
       "    </tr>\n",
       "    <tr>\n",
       "      <th>1</th>\n",
       "      <td>546468</td>\n",
       "      <td>treatment</td>\n",
       "      <td>new</td>\n",
       "      <td>7.13</td>\n",
       "      <td>yes</td>\n",
       "      <td>English</td>\n",
       "    </tr>\n",
       "    <tr>\n",
       "      <th>2</th>\n",
       "      <td>546462</td>\n",
       "      <td>treatment</td>\n",
       "      <td>new</td>\n",
       "      <td>4.40</td>\n",
       "      <td>no</td>\n",
       "      <td>Spanish</td>\n",
       "    </tr>\n",
       "    <tr>\n",
       "      <th>3</th>\n",
       "      <td>546567</td>\n",
       "      <td>control</td>\n",
       "      <td>old</td>\n",
       "      <td>3.02</td>\n",
       "      <td>no</td>\n",
       "      <td>French</td>\n",
       "    </tr>\n",
       "    <tr>\n",
       "      <th>4</th>\n",
       "      <td>546459</td>\n",
       "      <td>treatment</td>\n",
       "      <td>new</td>\n",
       "      <td>4.75</td>\n",
       "      <td>yes</td>\n",
       "      <td>Spanish</td>\n",
       "    </tr>\n",
       "  </tbody>\n",
       "</table>\n",
       "</div>"
      ],
      "text/plain": [
       "   user_id      group landing_page  time_spent_on_the_page converted  \\\n",
       "0   546592    control          old                    3.48        no   \n",
       "1   546468  treatment          new                    7.13       yes   \n",
       "2   546462  treatment          new                    4.40        no   \n",
       "3   546567    control          old                    3.02        no   \n",
       "4   546459  treatment          new                    4.75       yes   \n",
       "\n",
       "  language_preferred  \n",
       "0            Spanish  \n",
       "1            English  \n",
       "2            Spanish  \n",
       "3             French  \n",
       "4            Spanish  "
      ]
     },
     "execution_count": 6,
     "metadata": {},
     "output_type": "execute_result"
    }
   ],
   "source": [
    "# Become familiar with the dataset values and meaning by reviewing the first few records\n",
    "abtest.head ()"
   ]
  },
  {
   "cell_type": "markdown",
   "metadata": {},
   "source": [
    "Summarizing the attributes' basic statistical data with describe() w/o splitting the data frame won't provide insights as we have a \"Group A\" and \"Group B\" to deal with.\n",
    "The Group and Landing page attributes are redundant, they both describe Group A and B.\n"
   ]
  },
  {
   "cell_type": "markdown",
   "metadata": {},
   "source": [
    "### Univariable analysis\n",
    "\n",
    "Explore the data and distribution across single variables; preferred language converted and groups.\n"
   ]
  },
  {
   "cell_type": "code",
   "execution_count": 7,
   "metadata": {
    "scrolled": true
   },
   "outputs": [
    {
     "data": {
      "image/png": "[encoded data removed]",
      "text/plain": [
       "<Figure size 432x288 with 1 Axes>"
      ]
     },
     "metadata": {
      "needs_background": "light"
     },
     "output_type": "display_data"
    }
   ],
   "source": [
    "# Group A and B distribution count\n",
    "sns.countplot (data = abtest, x='group'  );\n",
    "plt.show ()"
   ]
  },
  {
   "cell_type": "markdown",
   "metadata": {},
   "source": [
    "Group sizes are exacly the same, the sample. "
   ]
  },
  {
   "cell_type": "code",
   "execution_count": 8,
   "metadata": {
    "scrolled": true
   },
   "outputs": [
    {
     "data": {
      "image/png": "[encoded data removed]",
      "text/plain": [
       "<Figure size 432x288 with 1 Axes>"
      ]
     },
     "metadata": {},
     "output_type": "display_data"
    }
   ],
   "source": [
    "# Converted vs. non coverted\n",
    "nbr_of_converted = abtest.groupby(\"converted\")[\"converted\"].count()\n",
    "nbr_of_converted\n",
    "nbr_of_converted.plot.pie(autopct=\"%.1f%%\");"
   ]
  },
  {
   "cell_type": "code",
   "execution_count": 9,
   "metadata": {
    "scrolled": true
   },
   "outputs": [
    {
     "data": {
      "image/png": "[encoded data removed]",
      "text/plain": [
       "<Figure size 432x288 with 1 Axes>"
      ]
     },
     "metadata": {
      "needs_background": "light"
     },
     "output_type": "display_data"
    }
   ],
   "source": [
    "# Preferred language distribution count\n",
    "sns.countplot (data = abtest, x='language_preferred'  );\n",
    "plt.show ()"
   ]
  },
  {
   "cell_type": "markdown",
   "metadata": {},
   "source": [
    "We don't know if the last univariable analysis refers to Group A or B but they look equally distributed. "
   ]
  },
  {
   "cell_type": "code",
   "execution_count": 10,
   "metadata": {},
   "outputs": [
    {
     "data": {
      "text/plain": [
       "(array([ 6.,  6.,  8., 12., 19., 16., 17.,  8.,  5.,  3.]),\n",
       " array([ 0.19 ,  1.242,  2.294,  3.346,  4.398,  5.45 ,  6.502,  7.554,\n",
       "         8.606,  9.658, 10.71 ]),\n",
       " <a list of 10 Patch objects>)"
      ]
     },
     "execution_count": 10,
     "metadata": {},
     "output_type": "execute_result"
    },
    {
     "data": {
      "image/png": "[encoded data removed]",
      "text/plain": [
       "<Figure size 432x288 with 1 Axes>"
      ]
     },
     "metadata": {
      "needs_background": "light"
     },
     "output_type": "display_data"
    }
   ],
   "source": [
    "# Checking the spent time distribution\n",
    "plt.hist(abtest.time_spent_on_the_page, color='g')"
   ]
  },
  {
   "cell_type": "code",
   "execution_count": 11,
   "metadata": {
    "scrolled": true
   },
   "outputs": [
    {
     "name": "stderr",
     "output_type": "stream",
     "text": [
      "C:\\Users\\ylapin\\Anaconda3\\lib\\site-packages\\seaborn\\distributions.py:2551: FutureWarning: `distplot` is a deprecated function and will be removed in a future version. Please adapt your code to use either `displot` (a figure-level function with similar flexibility) or `histplot` (an axes-level function for histograms).\n",
      "  warnings.warn(msg, FutureWarning)\n"
     ]
    },
    {
     "data": {
      "text/plain": [
       "<matplotlib.axes._subplots.AxesSubplot at 0x186c6cdc370>"
      ]
     },
     "execution_count": 11,
     "metadata": {},
     "output_type": "execute_result"
    },
    {
     "data": {
      "image/png": "[encoded data removed]",
      "text/plain": [
       "<Figure size 432x288 with 1 Axes>"
      ]
     },
     "metadata": {
      "needs_background": "light"
     },
     "output_type": "display_data"
    }
   ],
   "source": [
    "# Checking if the time spent on the page is normally distributed\n",
    "sns.distplot (abtest.time_spent_on_the_page)"
   ]
  },
  {
   "cell_type": "markdown",
   "metadata": {},
   "source": [
    "It looks like the above time spent on the page is normally distributed. \n",
    "To clarify further let proceed with a Bivariate and Multivariate Analysis."
   ]
  },
  {
   "cell_type": "markdown",
   "metadata": {},
   "source": [
    "### Bivariate and Multivariate Analysis\n",
    "\n",
    "We are going to go dig into the patterns and relations to start to infer conclusions.\n"
   ]
  },
  {
   "cell_type": "code",
   "execution_count": 12,
   "metadata": {
    "scrolled": true
   },
   "outputs": [
    {
     "data": {
      "image/png": "[encoded data removed]",
      "text/plain": [
       "<Figure size 432x288 with 1 Axes>"
      ]
     },
     "metadata": {
      "needs_background": "light"
     },
     "output_type": "display_data"
    }
   ],
   "source": [
    "# Checking the Groups and Conversion relationship\n",
    "sns.countplot (data = abtest, x='group' , hue = 'converted');\n",
    "plt.show ()\n"
   ]
  },
  {
   "cell_type": "markdown",
   "metadata": {},
   "source": [
    "It looks like the new landing page converts more users into subscribers. Is statistically different? "
   ]
  },
  {
   "cell_type": "code",
   "execution_count": 13,
   "metadata": {
    "scrolled": false
   },
   "outputs": [
    {
     "data": {
      "image/png": "[encoded data removed]",
      "text/plain": [
       "<Figure size 778.375x360 with 2 Axes>"
      ]
     },
     "metadata": {
      "needs_background": "light"
     },
     "output_type": "display_data"
    }
   ],
   "source": [
    "sns.catplot(x=\"language_preferred\",\n",
    "               y = \"time_spent_on_the_page\",\n",
    "               hue=\"converted\", \n",
    "               col=\"group\", \n",
    "               data=abtest, \n",
    "               kind=\"box\");"
   ]
  },
  {
   "cell_type": "markdown",
   "metadata": {},
   "source": [
    "The first impression of the above results it looks the new landing page makes the users stay longer.  This may drive a higher conversion rate of subscribers. This observation is pretty consistent across languages."
   ]
  },
  {
   "cell_type": "markdown",
   "metadata": {},
   "source": [
    "### Statistical Analysis and hypothesis testing\n",
    "\n",
    "We are going to perform some test to validate the hypothesis are correct. \n",
    "Data manipulation is required to prepare for the testing."
   ]
  },
  {
   "cell_type": "code",
   "execution_count": 14,
   "metadata": {},
   "outputs": [
    {
     "name": "stdout",
     "output_type": "stream",
     "text": [
      "    user_id      group landing_page  time_spent_on_the_page converted  \\\n",
      "1    546468  treatment          new                    7.13       yes   \n",
      "2    546462  treatment          new                    4.40        no   \n",
      "4    546459  treatment          new                    4.75       yes   \n",
      "6    546448  treatment          new                    5.25       yes   \n",
      "8    546461  treatment          new                   10.71       yes   \n",
      "12   546491  treatment          new                    5.86       yes   \n",
      "13   546478  treatment          new                    6.03       yes   \n",
      "15   546466  treatment          new                    6.27       yes   \n",
      "16   546443  treatment          new                    8.73        no   \n",
      "22   546450  treatment          new                    3.65        no   \n",
      "23   546475  treatment          new                    7.02       yes   \n",
      "24   546456  treatment          new                    6.18        no   \n",
      "25   546455  treatment          new                    4.39        no   \n",
      "26   546469  treatment          new                    9.49       yes   \n",
      "28   546471  treatment          new                    7.81       yes   \n",
      "30   546464  treatment          new                    5.41       yes   \n",
      "38   546487  treatment          new                    1.65        no   \n",
      "42   546489  treatment          new                    7.16       yes   \n",
      "43   546453  treatment          new                    7.16       yes   \n",
      "44   546488  treatment          new                    3.91        no   \n",
      "46   546460  treatment          new                    5.37       yes   \n",
      "47   546458  treatment          new                    7.23       yes   \n",
      "48   546492  treatment          new                    8.08       yes   \n",
      "49   546473  treatment          new                   10.50       yes   \n",
      "51   546457  treatment          new                    5.65        no   \n",
      "52   546479  treatment          new                    6.47       yes   \n",
      "54   546482  treatment          new                    6.41       yes   \n",
      "57   546454  treatment          new                    8.30       yes   \n",
      "60   546470  treatment          new                    6.01       yes   \n",
      "61   546467  treatment          new                    6.79       yes   \n",
      "65   546445  treatment          new                    7.27       yes   \n",
      "68   546484  treatment          new                    6.70        no   \n",
      "71   546476  treatment          new                    5.42       yes   \n",
      "72   546452  treatment          new                    5.08       yes   \n",
      "73   546444  treatment          new                    7.46       yes   \n",
      "77   546485  treatment          new                    3.88        no   \n",
      "78   546486  treatment          new                    9.12       yes   \n",
      "80   546490  treatment          new                    4.68        no   \n",
      "81   546449  treatment          new                    5.26       yes   \n",
      "82   546463  treatment          new                    5.74       yes   \n",
      "86   546465  treatment          new                    6.71        no   \n",
      "87   546480  treatment          new                    3.68        no   \n",
      "88   546447  treatment          new                    3.30        no   \n",
      "90   546477  treatment          new                    5.40        no   \n",
      "91   546451  treatment          new                    8.47       yes   \n",
      "93   546474  treatment          new                    4.94        no   \n",
      "95   546446  treatment          new                    5.15        no   \n",
      "97   546472  treatment          new                    7.07       yes   \n",
      "98   546481  treatment          new                    6.20       yes   \n",
      "99   546483  treatment          new                    5.86       yes   \n",
      "\n",
      "   language_preferred  \n",
      "1             English  \n",
      "2             Spanish  \n",
      "4             Spanish  \n",
      "6              French  \n",
      "8              French  \n",
      "12            Spanish  \n",
      "13             French  \n",
      "15            Spanish  \n",
      "16            English  \n",
      "22            English  \n",
      "23            English  \n",
      "24            Spanish  \n",
      "25            English  \n",
      "26            English  \n",
      "28             French  \n",
      "30            English  \n",
      "38            Spanish  \n",
      "42            Spanish  \n",
      "43            English  \n",
      "44            English  \n",
      "46             French  \n",
      "47            Spanish  \n",
      "48            Spanish  \n",
      "49            English  \n",
      "51            English  \n",
      "52            Spanish  \n",
      "54            Spanish  \n",
      "57             French  \n",
      "60             French  \n",
      "61             French  \n",
      "65             French  \n",
      "68            Spanish  \n",
      "71             French  \n",
      "72            English  \n",
      "73            English  \n",
      "77            Spanish  \n",
      "78             French  \n",
      "80             French  \n",
      "81             French  \n",
      "82            Spanish  \n",
      "86            English  \n",
      "87             French  \n",
      "88             French  \n",
      "90             French  \n",
      "91            English  \n",
      "93             French  \n",
      "95            Spanish  \n",
      "97            Spanish  \n",
      "98            Spanish  \n",
      "99            English  \n",
      "    user_id    group landing_page  time_spent_on_the_page converted  \\\n",
      "0    546592  control          old                    3.48        no   \n",
      "3    546567  control          old                    3.02        no   \n",
      "5    546558  control          old                    5.28       yes   \n",
      "7    546581  control          old                    6.53       yes   \n",
      "9    546548  control          old                    2.08        no   \n",
      "10   546588  control          old                    6.21       yes   \n",
      "11   546546  control          old                    2.58       yes   \n",
      "14   546578  control          old                    8.72       yes   \n",
      "17   546555  control          old                    0.40        no   \n",
      "18   546493  control          old                   10.30       yes   \n",
      "19   546549  control          old                    3.88       yes   \n",
      "20   546560  control          old                    2.66        no   \n",
      "21   546584  control          old                    7.03       yes   \n",
      "27   546586  control          old                    4.05        no   \n",
      "29   546575  control          old                    4.28        no   \n",
      "31   546556  control          old                    3.52       yes   \n",
      "32   546585  control          old                    5.39       yes   \n",
      "33   546577  control          old                    4.52        no   \n",
      "34   546587  control          old                    4.46        no   \n",
      "35   546552  control          old                    8.50       yes   \n",
      "36   546551  control          old                    3.13        no   \n",
      "37   546557  control          old                    6.04       yes   \n",
      "39   546589  control          old                    0.19        no   \n",
      "40   546559  control          old                    8.46       yes   \n",
      "41   546570  control          old                    1.92        no   \n",
      "45   546565  control          old                    8.02        no   \n",
      "50   546554  control          old                    0.22        no   \n",
      "53   546576  control          old                    4.71        no   \n",
      "55   546563  control          old                    0.93        no   \n",
      "56   546569  control          old                    1.81        no   \n",
      "58   546562  control          old                    7.40       yes   \n",
      "59   546574  control          old                    9.15        no   \n",
      "62   546572  control          old                    4.18        no   \n",
      "63   546590  control          old                    5.47        no   \n",
      "64   546553  control          old                    5.96       yes   \n",
      "66   546545  control          old                    6.60       yes   \n",
      "67   546582  control          old                    4.75       yes   \n",
      "69   546579  control          old                    2.23        no   \n",
      "70   546568  control          old                    0.40        no   \n",
      "74   546591  control          old                    4.87        no   \n",
      "75   546583  control          old                    6.57       yes   \n",
      "76   546573  control          old                    1.44        no   \n",
      "79   546547  control          old                    3.21       yes   \n",
      "83   546580  control          old                    2.90        no   \n",
      "84   546571  control          old                    4.30        no   \n",
      "85   546564  control          old                    0.91        no   \n",
      "89   546561  control          old                    6.04       yes   \n",
      "92   546566  control          old                    8.35        no   \n",
      "94   546550  control          old                    3.05        no   \n",
      "96   546544  control          old                    6.52       yes   \n",
      "\n",
      "   language_preferred  \n",
      "0             Spanish  \n",
      "3              French  \n",
      "5             English  \n",
      "7             Spanish  \n",
      "9             English  \n",
      "10            Spanish  \n",
      "11            English  \n",
      "14            Spanish  \n",
      "17            English  \n",
      "18            English  \n",
      "19            English  \n",
      "20             French  \n",
      "21            Spanish  \n",
      "27            Spanish  \n",
      "29             French  \n",
      "31            English  \n",
      "32            Spanish  \n",
      "33            Spanish  \n",
      "34            Spanish  \n",
      "35            English  \n",
      "36            English  \n",
      "37            English  \n",
      "39            Spanish  \n",
      "40             French  \n",
      "41             French  \n",
      "45             French  \n",
      "50            English  \n",
      "53            Spanish  \n",
      "55             French  \n",
      "56             French  \n",
      "58             French  \n",
      "59             French  \n",
      "62             French  \n",
      "63            Spanish  \n",
      "64            English  \n",
      "66            English  \n",
      "67            Spanish  \n",
      "69            Spanish  \n",
      "70             French  \n",
      "74            Spanish  \n",
      "75            Spanish  \n",
      "76             French  \n",
      "79            English  \n",
      "83            Spanish  \n",
      "84             French  \n",
      "85             French  \n",
      "89             French  \n",
      "92             French  \n",
      "94            English  \n",
      "96            English  \n"
     ]
    }
   ],
   "source": [
    "# Let split the data frame by grouping by Group A and B\n",
    "\n",
    "bygroup = abtest.groupby(abtest.group)\n",
    "treatment = bygroup.get_group(\"treatment\")\n",
    "print (treatment)\n",
    "\n",
    "control = bygroup.get_group(\"control\")\n",
    "print (control)\n",
    "\n",
    "# The print used to visually validate the data frame, quick sample check."
   ]
  },
  {
   "cell_type": "markdown",
   "metadata": {},
   "source": [
    "### Hypothesis 1: the user spends more time on the new landing page     \n",
    "𝜇 mean time spent on the landing page     \n",
    "𝐻0:𝜇 control group =𝜇 treatment group, the null hypothesis     \n",
    "𝐻𝑎:𝜇 control group < 𝜇 treatment group, the alternative hypothesis\n",
    "\n",
    " "
   ]
  },
  {
   "cell_type": "code",
   "execution_count": 15,
   "metadata": {
    "scrolled": true
   },
   "outputs": [
    {
     "name": "stdout",
     "output_type": "stream",
     "text": [
      "The Control Group mean is  4.532400000000001\n",
      "The Treatment Group mean is  6.2232\n",
      "The Control Group std is  2.556024694716387\n",
      "The Treatment Group std is  1.7987689568146321\n"
     ]
    }
   ],
   "source": [
    "# Let calculate the statistical data of the two groups, A and B\n",
    "\n",
    "print (\"The Control Group mean is \" , np.mean (control.time_spent_on_the_page))\n",
    "print (\"The Treatment Group mean is \" , np.mean (treatment.time_spent_on_the_page))\n",
    "print (\"The Control Group std is \" , np.std (control.time_spent_on_the_page))\n",
    "print (\"The Treatment Group std is \", np.std (treatment.time_spent_on_the_page))"
   ]
  },
  {
   "cell_type": "code",
   "execution_count": 16,
   "metadata": {
    "scrolled": false
   },
   "outputs": [
    {
     "name": "stdout",
     "output_type": "stream",
     "text": [
      "Users spent 1.69 minutes more on the new landing page.\n"
     ]
    }
   ],
   "source": [
    "# Time spent on landing page means difference, treatment vs. control group\n",
    "\n",
    "diff = np.mean (treatment.time_spent_on_the_page) - np.mean (control.time_spent_on_the_page)\n",
    "print (\"Users spent\", round (diff, 2) ,\"minutes more on the new landing page.\" )"
   ]
  },
  {
   "cell_type": "markdown",
   "metadata": {},
   "source": [
    "Let proceed with the statistical test."
   ]
  },
  {
   "cell_type": "markdown",
   "metadata": {},
   "source": [
    "#### Paired T-test assumptions are satisfied:\n",
    "\n",
    "Continuous data - Yes    \n",
    "Normally distributed populations - Yes, the populations are assumed to be normal     \n",
    "Independent observations - As we are taking the sampled unit randomly, the observed units are independent       \n",
    "Random sampling from the population - Yes, simple random sample"
   ]
  },
  {
   "cell_type": "code",
   "execution_count": 17,
   "metadata": {
    "scrolled": true
   },
   "outputs": [
    {
     "name": "stdout",
     "output_type": "stream",
     "text": [
      "The p-value is  0.00029910900937037973\n"
     ]
    }
   ],
   "source": [
    "# import the required functions\n",
    "from scipy.stats import ttest_rel\n",
    "\n",
    "# find the p-value\n",
    "test_stat, p_value = ttest_rel(control['time_spent_on_the_page'], treatment['time_spent_on_the_page'], alternative = 'less') # answer greater\n",
    "print('The p-value is ', p_value)"
   ]
  },
  {
   "cell_type": "markdown",
   "metadata": {},
   "source": [
    "###### Insight \n",
    "We reject the null hypothesis; we can find significant evidence to confirm the users spent more time on the new page.\n"
   ]
  },
  {
   "cell_type": "markdown",
   "metadata": {},
   "source": [
    "### Hypothesis 2: the conversion rate on the new page is higher than on the old page\n",
    "𝜇 counts new subscribers     \n",
    "𝐻0:𝜇 control group =𝜇 treatment group, the null hypothesis   \n",
    "𝐻𝑎:𝜇 control group < 𝜇 treatment group, the alternative hypothesis   \n"
   ]
  },
  {
   "cell_type": "code",
   "execution_count": 18,
   "metadata": {},
   "outputs": [
    {
     "data": {
      "image/png": "[encoded data removed]",
      "text/plain": [
       "<Figure size 432x288 with 1 Axes>"
      ]
     },
     "metadata": {
      "needs_background": "light"
     },
     "output_type": "display_data"
    },
    {
     "data": {
      "image/png": "[encoded data removed]",
      "text/plain": [
       "<Figure size 432x288 with 1 Axes>"
      ]
     },
     "metadata": {
      "needs_background": "light"
     },
     "output_type": "display_data"
    }
   ],
   "source": [
    "# Checking the converted rate per group, A and B   \n",
    "plt.hist(control[\"converted\"])\n",
    "plt.show()      \n",
    "plt.hist(treatment[\"converted\"])\n",
    "plt.show()"
   ]
  },
  {
   "cell_type": "markdown",
   "metadata": {},
   "source": [
    "Conclusion per plots:\n",
    "    The Control Group converted accounts for 21 out of the 50 users in the sample.\n",
    "    The Treatment Groups account for 33 out of the 50 users in the sample.\n"
   ]
  },
  {
   "cell_type": "code",
   "execution_count": 19,
   "metadata": {},
   "outputs": [
    {
     "name": "stdout",
     "output_type": "stream",
     "text": [
      "The Control Group conversion rate is  0.42\n",
      "The Treatment Group conversion rate is 0.66\n"
     ]
    }
   ],
   "source": [
    "# Control Group % of converted   \n",
    "perc_control = 21/50\n",
    "print (\"The Control Group conversion rate is \", (perc_control))\n",
    "\n",
    "# Treatment Group % of converted   \n",
    "perc_treatment = 33/50\n",
    "print (\"The Treatment Group conversion rate is\", (perc_treatment))"
   ]
  },
  {
   "cell_type": "markdown",
   "metadata": {},
   "source": [
    "#### Let's test whether the Z-test assumptions are satisfied :\n",
    "\n",
    "Binomially distributed population - Yes     \n",
    "Random sampling from the population - Yes, a random sample        \n",
    "Can the binomial distribution approximated to a normal distribution - Yes\n"
   ]
  },
  {
   "cell_type": "code",
   "execution_count": 20,
   "metadata": {},
   "outputs": [
    {
     "name": "stdout",
     "output_type": "stream",
     "text": [
      "The p-value is  0.016052616408112556\n"
     ]
    }
   ],
   "source": [
    "# import the required fuction\n",
    "from statsmodels.stats.proportion import proportions_ztest\n",
    "\n",
    "# set the counts of converted suscribers\n",
    "defect_count = np.array([21, 33])\n",
    "\n",
    "# set the sample sizes\n",
    "nobs = np.array([50, 50])\n",
    "\n",
    "# find the p-value\n",
    "test_stat, p_value = proportions_ztest(defect_count, nobs) # alternative = less\n",
    "print('The p-value is ' , (p_value))"
   ]
  },
  {
   "cell_type": "markdown",
   "metadata": {},
   "source": [
    "###### Insight \n",
    "As the p-value is less than the significance level of 0.05, we can reject the null hypothesis. Thus, we conclude the new landing page is bringing more subscribers."
   ]
  },
  {
   "cell_type": "markdown",
   "metadata": {},
   "source": [
    "### Hypothesis 3: conversion rate depends on the language\n",
    "𝜇1 new subscribers in English, 𝜇2 new subscribers in French, 𝜇3 new subscribers in Spanish      \n",
    "𝐻0:𝜇1=𝜇2=𝜇3, null hypothesis             \n",
    "𝐻𝑎:𝜇 , new subscribers per language are different, alternative hypothesis\n",
    "\n"
   ]
  },
  {
   "cell_type": "code",
   "execution_count": 21,
   "metadata": {},
   "outputs": [
    {
     "data": {
      "text/html": [
       "<div>\n",
       "<style scoped>\n",
       "    .dataframe tbody tr th:only-of-type {\n",
       "        vertical-align: middle;\n",
       "    }\n",
       "\n",
       "    .dataframe tbody tr th {\n",
       "        vertical-align: top;\n",
       "    }\n",
       "\n",
       "    .dataframe thead th {\n",
       "        text-align: right;\n",
       "    }\n",
       "</style>\n",
       "<table border=\"1\" class=\"dataframe\">\n",
       "  <thead>\n",
       "    <tr style=\"text-align: right;\">\n",
       "      <th>converted</th>\n",
       "      <th>no</th>\n",
       "      <th>yes</th>\n",
       "    </tr>\n",
       "    <tr>\n",
       "      <th>language_preferred</th>\n",
       "      <th></th>\n",
       "      <th></th>\n",
       "    </tr>\n",
       "  </thead>\n",
       "  <tbody>\n",
       "    <tr>\n",
       "      <th>English</th>\n",
       "      <td>11</td>\n",
       "      <td>21</td>\n",
       "    </tr>\n",
       "    <tr>\n",
       "      <th>French</th>\n",
       "      <td>19</td>\n",
       "      <td>15</td>\n",
       "    </tr>\n",
       "    <tr>\n",
       "      <th>Spanish</th>\n",
       "      <td>16</td>\n",
       "      <td>18</td>\n",
       "    </tr>\n",
       "  </tbody>\n",
       "</table>\n",
       "</div>"
      ],
      "text/plain": [
       "converted           no  yes\n",
       "language_preferred         \n",
       "English             11   21\n",
       "French              19   15\n",
       "Spanish             16   18"
      ]
     },
     "execution_count": 21,
     "metadata": {},
     "output_type": "execute_result"
    }
   ],
   "source": [
    "#Create contingency table using the original data frame for the creation\n",
    "\n",
    "cont_table = pd.crosstab(index=abtest['language_preferred'], columns=abtest['converted'])\n",
    "cont_table"
   ]
  },
  {
   "cell_type": "markdown",
   "metadata": {},
   "source": [
    "#### Chi-Square Test for Independence\n",
    "\n",
    "Let's test whether the assumptions are satisfied:\n",
    "\n",
    "Categorical variables - Yes\n",
    "The expected value of the number of sample observations in each level of the variable is at least 5 - Yes, the number of observations in each level is greater than 5\n",
    "Random sampling from the population - Yes, a random sample\n"
   ]
  },
  {
   "cell_type": "code",
   "execution_count": 22,
   "metadata": {},
   "outputs": [
    {
     "name": "stdout",
     "output_type": "stream",
     "text": [
      "The p-value is  0.2129888748754345\n"
     ]
    }
   ],
   "source": [
    "# import the required function\n",
    "from scipy.stats import chi2_contingency\n",
    "\n",
    "# find the p-value\n",
    "\n",
    "chi2, p, dof, expected = stats.chi2_contingency(cont_table)\n",
    "print('The p-value is ' , (p))"
   ]
  },
  {
   "cell_type": "markdown",
   "metadata": {},
   "source": [
    "###### Insight \n",
    "As the p-value is more than the significance level of 0.05, we can't reject the null hypothesis.\n",
    "We can't conclude the language plays a role.\n"
   ]
  },
  {
   "cell_type": "markdown",
   "metadata": {},
   "source": [
    "### Hypothesis 4: Time spent on the new page is equal across different languages\n",
    "𝜇1 mean time spent in the landing page in English, 𝜇2 mean time spent in the landing page in French, 𝜇3 mean time spent in the landing page in Spanish     \n",
    "𝐻0:𝜇1=𝜇2=𝜇3, the null hypothesis      \n",
    "𝐻𝑎:𝜇 At least one language is showing different results, the alternative hypothesis     \n",
    "\n"
   ]
  },
  {
   "cell_type": "code",
   "execution_count": 23,
   "metadata": {},
   "outputs": [
    {
     "data": {
      "text/plain": [
       "French     34\n",
       "Spanish    34\n",
       "English    32\n",
       "Name: language_preferred, dtype: int64"
      ]
     },
     "execution_count": 23,
     "metadata": {},
     "output_type": "execute_result"
    }
   ],
   "source": [
    "# get the levels of factor per language\n",
    "abtest['language_preferred'].value_counts()"
   ]
  },
  {
   "cell_type": "markdown",
   "metadata": {},
   "source": [
    "The prefered language number of users looks to be similar. But before checking the below with the One Way Anova test we need to validate other conditions first."
   ]
  },
  {
   "cell_type": "markdown",
   "metadata": {},
   "source": [
    "##### Shapiro-Wilk’s test\n",
    "\n",
    "We will test the null hypothesis\n",
    "\n",
    ">$H_0:$ Time spent in the page follows a normal distribution against\n",
    "\n",
    "against the alternative hypothesis\n",
    "\n",
    ">$H_a:$ Time spent in the page does not follow a normal distribution"
   ]
  },
  {
   "cell_type": "code",
   "execution_count": 24,
   "metadata": {},
   "outputs": [
    {
     "name": "stdout",
     "output_type": "stream",
     "text": [
      "The p-value is 0.5643684267997742\n"
     ]
    }
   ],
   "source": [
    "# Assumption 1: Normality\n",
    "# import the required function\n",
    "from scipy import stats\n",
    "\n",
    "# find the p-value\n",
    "w, p_value = stats.shapiro(abtest['time_spent_on_the_page']) \n",
    "print('The p-value is', p_value)"
   ]
  },
  {
   "cell_type": "markdown",
   "metadata": {},
   "source": [
    "Since the p-value of the test is higher than 0.05,  we fail to reject the null hypothesis that the response follows the normal distribution."
   ]
  },
  {
   "cell_type": "markdown",
   "metadata": {},
   "source": [
    "##### Levene’s test\n",
    "\n",
    "We will test the null hypothesis\n",
    "\n",
    ">$H_0$: All the population variances are equal\n",
    "\n",
    "against the alternative hypothesis\n",
    "\n",
    ">$H_a$: At least one variance is different from the rest"
   ]
  },
  {
   "cell_type": "code",
   "execution_count": 25,
   "metadata": {
    "scrolled": true
   },
   "outputs": [
    {
     "name": "stdout",
     "output_type": "stream",
     "text": [
      "The p-value is 0.06515086840327314\n"
     ]
    }
   ],
   "source": [
    "#Assumption 2: Homogeneity of Variance\n",
    "#import the required function\n",
    "from scipy.stats import levene\n",
    "statistic, p_value = levene(       abtest['time_spent_on_the_page'][abtest['language_preferred']==\"Spanish\"], \n",
    "                                   abtest['time_spent_on_the_page'][abtest['language_preferred']==\"English\"], \n",
    "                                   abtest['time_spent_on_the_page'][abtest['language_preferred']==\"French\"])\n",
    "# find the p-value\n",
    "print('The p-value is', p_value)"
   ]
  },
  {
   "cell_type": "markdown",
   "metadata": {},
   "source": [
    "Since the p-value is higher than 0.05, we fail to reject the null hypothesis of homogeneity of variances."
   ]
  },
  {
   "cell_type": "markdown",
   "metadata": {},
   "source": [
    "###  One-way ANOVA Test\n",
    "\n",
    "Let's test whether the assumptions are satisfied:\n",
    "\n",
    "The populations are normally distributed - Yes, the normality assumption is verified using Shapiro-Wilk’s test\n",
    "Samples are independent simple random samples - Yes, we are informed that the collected sample is a simple random sample\n",
    "Population variances are equal - Yes, the homogeneity of variance assumption is verified using Levene's test\n"
   ]
  },
  {
   "cell_type": "code",
   "execution_count": 26,
   "metadata": {},
   "outputs": [
    {
     "name": "stdout",
     "output_type": "stream",
     "text": [
      "The p-value is  0.8665610536012648\n"
     ]
    }
   ],
   "source": [
    "#import the required function\n",
    "from scipy.stats import f_oneway\n",
    "\n",
    "# perform one-way anova test\n",
    "test_stat, p_value = f_oneway(abtest.loc[abtest['language_preferred'] == 'Spanish', 'time_spent_on_the_page'],\n",
    "                              abtest.loc[abtest['language_preferred'] == 'English', 'time_spent_on_the_page'],\n",
    "                              abtest.loc[abtest['language_preferred'] == 'French', 'time_spent_on_the_page'])\n",
    "print('The p-value is ' , (p_value))"
   ]
  },
  {
   "cell_type": "markdown",
   "metadata": {},
   "source": [
    "###### Insight \n",
    "Based on the p-value higher than 0.05 we can't reject the null hypothesis. The time spent on the landing page is statistically the same across languages. "
   ]
  },
  {
   "cell_type": "markdown",
   "metadata": {},
   "source": [
    "Let go further and check if the difference in at least one language. "
   ]
  },
  {
   "cell_type": "markdown",
   "metadata": {},
   "source": [
    "### Multiple Comparison test (Tukey HSD)\n",
    "\n",
    "\n",
    "In order to identify for which Time spent on the new page is different from other languages, the null hypothesis is\n",
    "\n",
    "  > $𝐻_0: 𝜇_1=𝜇_2 \\text{ and } 𝜇_1=𝜇_3 \\text{ and } 𝜇_2=𝜇_3$\n",
    "\n",
    "against the alternative hypothesis\n",
    "\n",
    " > $𝐻_a: 𝜇_1\\neq𝜇_2 \\text{ or } 𝜇_1\\neq𝜇_3 \\text{ or } 𝜇_2\\neq𝜇_3$"
   ]
  },
  {
   "cell_type": "code",
   "execution_count": 27,
   "metadata": {
    "scrolled": false
   },
   "outputs": [
    {
     "name": "stdout",
     "output_type": "stream",
     "text": [
      " Multiple Comparison of Means - Tukey HSD, FWER=0.05 \n",
      "=====================================================\n",
      " group1  group2 meandiff p-adj   lower  upper  reject\n",
      "-----------------------------------------------------\n",
      "English  French  -0.3058 0.8482 -1.7123 1.1006  False\n",
      "English Spanish  -0.2273    0.9 -1.6338 1.1792  False\n",
      " French Spanish   0.0785    0.9 -1.3065 1.4635  False\n",
      "-----------------------------------------------------\n"
     ]
    }
   ],
   "source": [
    "#import the required function\n",
    "from statsmodels.stats.multicomp import pairwise_tukeyhsd\n",
    "\n",
    "# perform multiple pairwise comparison (Tukey HSD)\n",
    "m_comp = pairwise_tukeyhsd(endog = abtest['time_spent_on_the_page'], groups = abtest['language_preferred'], alpha = 0.05)\n",
    "print(m_comp)"
   ]
  },
  {
   "cell_type": "markdown",
   "metadata": {},
   "source": [
    "###### Insight \n",
    "The table above concludes for each option we fail to reject the null hypotheses. The time users spent on the landing page across the different languages is statistically the same. "
   ]
  },
  {
   "cell_type": "code",
   "execution_count": null,
   "metadata": {},
   "outputs": [],
   "source": []
  }
 ],
 "metadata": {
  "kernelspec": {
   "display_name": "Python 3",
   "language": "python",
   "name": "python3"
  },
  "language_info": {
   "codemirror_mode": {
    "name": "ipython",
    "version": 3
   },
   "file_extension": ".py",
   "mimetype": "text/x-python",
   "name": "python",
   "nbconvert_exporter": "python",
   "pygments_lexer": "ipython3",
   "version": "3.8.3"
  }
 },
 "nbformat": 4,
 "nbformat_minor": 4
}
